{
 "cells": [
  {
   "cell_type": "code",
   "execution_count": 1,
   "metadata": {},
   "outputs": [],
   "source": [
    "import re"
   ]
  },
  {
   "cell_type": "code",
   "execution_count": 2,
   "metadata": {},
   "outputs": [],
   "source": [
    "su_note = 'fjkdl kdlfke. ldfk. kfdkjjk kdjkfdei , kdlfejkk kdjkresk, kdlklamfkdk'\n",
    "x = re.findall(r'\\b\\w+\\b', su_note)"
   ]
  },
  {
   "cell_type": "code",
   "execution_count": 3,
   "metadata": {},
   "outputs": [
    {
     "data": {
      "text/plain": [
       "['fjkdl',\n",
       " 'kdlfke',\n",
       " 'ldfk',\n",
       " 'kfdkjjk',\n",
       " 'kdjkfdei',\n",
       " 'kdlfejkk',\n",
       " 'kdjkresk',\n",
       " 'kdlklamfkdk']"
      ]
     },
     "execution_count": 3,
     "metadata": {},
     "output_type": "execute_result"
    }
   ],
   "source": [
    "x"
   ]
  },
  {
   "cell_type": "code",
   "execution_count": null,
   "metadata": {},
   "outputs": [],
   "source": [
    "def createLetterColumnLetter(content):\n",
    "    resultat_regex = extractH2(content)\n",
    "    return resultat_regex\n",
    "\n",
    "def createLetterColumn(content):\n",
    "    return divide_elements(s=content)[0]\n",
    "\n",
    "def process_1():\n",
    "    df = pd.read_csv('C:/Users/PC/Desktop/RD/wordpress-webflow-migration/input/Post-Export-2023-Oct-18-065804.csv')\n",
    "    x = list(map(lambda x: createLetterColumn(content=x), df['Content']))\n",
    "    y = list(map(lambda y: createLetterColumnLetter(content=y), df['Content']))\n",
    "    # df = df.apply(lambda content: createLetterColumn(content=content), axis=1)\n",
    "    df['Letter Tittle'] = y\n",
    "    df['Letter'] = x\n",
    "    df.to_csv('C:/Users/PC/Desktop/RD/wordpress-webflow-migration/input/Post-Export-2023-Oct-18-065804.csv', index=False)\n",
    "    print('TO CSV DONE')"
   ]
  }
 ],
 "metadata": {
  "kernelspec": {
   "display_name": "Python 3",
   "language": "python",
   "name": "python3"
  },
  "language_info": {
   "codemirror_mode": {
    "name": "ipython",
    "version": 3
   },
   "file_extension": ".py",
   "mimetype": "text/x-python",
   "name": "python",
   "nbconvert_exporter": "python",
   "pygments_lexer": "ipython3",
   "version": "3.9.2"
  }
 },
 "nbformat": 4,
 "nbformat_minor": 2
}
